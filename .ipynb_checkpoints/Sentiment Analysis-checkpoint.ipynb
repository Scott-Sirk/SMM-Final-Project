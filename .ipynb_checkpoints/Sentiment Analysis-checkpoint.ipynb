{
 "cells": [
  {
   "cell_type": "code",
   "execution_count": 1,
   "metadata": {},
   "outputs": [],
   "source": [
    "import tweepy \n",
    "import datetime\n",
    "import pandas as pd\n",
    "import csv\n",
    "import numpy as np \n",
    "import re\n",
    "import nltk \n",
    "import matplotlib.pyplot as plt\n",
    "import seaborn as sns\n",
    "import itertools\n",
    "import collections\n",
    "from nltk.corpus import stopwords\n",
    "import networkx\n",
    "from textblob import TextBlob\n",
    "\n",
    "import warnings\n",
    "warnings.filterwarnings(\"ignore\")\n",
    "%matplotlib inline"
   ]
  },
  {
   "cell_type": "code",
   "execution_count": 89,
   "metadata": {},
   "outputs": [],
   "source": [
    "def remove_url(txt):\n",
    "    \"\"\"Replace URLs found in a text string with nothing \n",
    "    (i.e. it will remove the URL from the string).\n",
    "\n",
    "    Parameters\n",
    "    ----------\n",
    "    txt : string\n",
    "        A text string that you want to parse and remove urls.\n",
    "\n",
    "    Returns\n",
    "    -------\n",
    "    The same txt string with url's removed.\n",
    "    \"\"\"\n",
    "\n",
    "    return \" \".join(re.sub(\"([^0-9A-Za-z \\t])|(\\w+:\\/\\/\\S+)\", \"\", txt).split())\n",
    "\n",
    "# Remove URLs\n",
    "#tweets_no_urls = [remove_url(tweet.text) for tweet in tweets]"
   ]
  },
  {
   "cell_type": "markdown",
   "metadata": {},
   "source": [
    "# Illinois Sentiment"
   ]
  },
  {
   "cell_type": "code",
   "execution_count": 75,
   "metadata": {},
   "outputs": [
    {
     "data": {
      "text/html": [
       "<div>\n",
       "<style scoped>\n",
       "    .dataframe tbody tr th:only-of-type {\n",
       "        vertical-align: middle;\n",
       "    }\n",
       "\n",
       "    .dataframe tbody tr th {\n",
       "        vertical-align: top;\n",
       "    }\n",
       "\n",
       "    .dataframe thead th {\n",
       "        text-align: right;\n",
       "    }\n",
       "</style>\n",
       "<table border=\"1\" class=\"dataframe\">\n",
       "  <thead>\n",
       "    <tr style=\"text-align: right;\">\n",
       "      <th></th>\n",
       "      <th>id</th>\n",
       "      <th>create_date</th>\n",
       "      <th>state</th>\n",
       "      <th>sentiment</th>\n",
       "      <th>text</th>\n",
       "    </tr>\n",
       "  </thead>\n",
       "  <tbody>\n",
       "    <tr>\n",
       "      <th>0</th>\n",
       "      <td>bc337c99-878d-49ed-8b1d-a1bc02e7aa24</td>\n",
       "      <td>2020-12-05 14:56:38</td>\n",
       "      <td>illinois</td>\n",
       "      <td>UNKNOWN</td>\n",
       "      <td>Diagnosing why the US has so blatantly failed ...</td>\n",
       "    </tr>\n",
       "    <tr>\n",
       "      <th>1</th>\n",
       "      <td>37636924-8276-45a5-b98f-a209e67b0d75</td>\n",
       "      <td>2020-12-05 00:28:37</td>\n",
       "      <td>illinois</td>\n",
       "      <td>UNKNOWN</td>\n",
       "      <td>BILL NYE is still the science show king. And h...</td>\n",
       "    </tr>\n",
       "    <tr>\n",
       "      <th>2</th>\n",
       "      <td>61863ba9-4214-498d-b4fc-8eb0d9354245</td>\n",
       "      <td>2020-12-05 06:06:44</td>\n",
       "      <td>illinois</td>\n",
       "      <td>UNKNOWN</td>\n",
       "      <td>Stellar detailed reporting from Florida on Gov...</td>\n",
       "    </tr>\n",
       "    <tr>\n",
       "      <th>3</th>\n",
       "      <td>fd8643a9-b9a7-4024-b25d-8aaf57dc0e52</td>\n",
       "      <td>2020-12-06 19:39:32</td>\n",
       "      <td>illinois</td>\n",
       "      <td>UNKNOWN</td>\n",
       "      <td>RT @Dr2NisreenAlwan: Some facts: ▪️Children ca...</td>\n",
       "    </tr>\n",
       "    <tr>\n",
       "      <th>4</th>\n",
       "      <td>8a1e1ce8-8a1a-4ccb-96f5-94c654bfdd58</td>\n",
       "      <td>2020-12-06 19:39:32</td>\n",
       "      <td>illinois</td>\n",
       "      <td>UNKNOWN</td>\n",
       "      <td>RT @AbraarKaran: A quarter of all detected #co...</td>\n",
       "    </tr>\n",
       "  </tbody>\n",
       "</table>\n",
       "</div>"
      ],
      "text/plain": [
       "                                     id          create_date     state  \\\n",
       "0  bc337c99-878d-49ed-8b1d-a1bc02e7aa24  2020-12-05 14:56:38  illinois   \n",
       "1  37636924-8276-45a5-b98f-a209e67b0d75  2020-12-05 00:28:37  illinois   \n",
       "2  61863ba9-4214-498d-b4fc-8eb0d9354245  2020-12-05 06:06:44  illinois   \n",
       "3  fd8643a9-b9a7-4024-b25d-8aaf57dc0e52  2020-12-06 19:39:32  illinois   \n",
       "4  8a1e1ce8-8a1a-4ccb-96f5-94c654bfdd58  2020-12-06 19:39:32  illinois   \n",
       "\n",
       "  sentiment                                               text  \n",
       "0   UNKNOWN  Diagnosing why the US has so blatantly failed ...  \n",
       "1   UNKNOWN  BILL NYE is still the science show king. And h...  \n",
       "2   UNKNOWN  Stellar detailed reporting from Florida on Gov...  \n",
       "3   UNKNOWN  RT @Dr2NisreenAlwan: Some facts: ▪️Children ca...  \n",
       "4   UNKNOWN  RT @AbraarKaran: A quarter of all detected #co...  "
      ]
     },
     "execution_count": 75,
     "metadata": {},
     "output_type": "execute_result"
    }
   ],
   "source": [
    "illinois_twitter_data = pd.read_csv('data/states/illinois.csv')\n",
    "illinois_twitter_data.head()"
   ]
  },
  {
   "cell_type": "code",
   "execution_count": 76,
   "metadata": {},
   "outputs": [],
   "source": [
    "count = 0\n",
    "tweet_dict = {}\n",
    "for tweet in illinois_twitter_data[\"text\"]:\n",
    "    tweet_dict[count] = remove_url(tweet.lower())\n",
    "    #tweet_dict[count] = tweet.lower()\n",
    "    count += 1"
   ]
  },
  {
   "cell_type": "code",
   "execution_count": 77,
   "metadata": {},
   "outputs": [
    {
     "data": {
      "text/plain": [
       "(-0.5,\n",
       " TextBlob(\"diagnosing why the us has so blatantly failed to respond to covid19 by 2 tweets\"))"
      ]
     },
     "execution_count": 77,
     "metadata": {},
     "output_type": "execute_result"
    }
   ],
   "source": [
    "# Create textblob objects of the tweets\n",
    "illinois_sentiment_objects = [TextBlob(tweet) for tweet in tweet_dict.values()]\n",
    "\n",
    "illinois_sentiment_objects[0].polarity, illinois_sentiment_objects[0]"
   ]
  },
  {
   "cell_type": "code",
   "execution_count": 78,
   "metadata": {},
   "outputs": [
    {
     "data": {
      "text/plain": [
       "[-0.5,\n",
       " 'diagnosing why the us has so blatantly failed to respond to covid19 by 2 tweets']"
      ]
     },
     "execution_count": 78,
     "metadata": {},
     "output_type": "execute_result"
    }
   ],
   "source": [
    "# Create list of polarity values and tweet text\n",
    "illinois_sentiment_values = [[tweet.sentiment.polarity, str(tweet)] for tweet in illinois_sentiment_objects]\n",
    "\n",
    "illinois_sentiment_values[0]"
   ]
  },
  {
   "cell_type": "code",
   "execution_count": 79,
   "metadata": {},
   "outputs": [
    {
     "data": {
      "text/html": [
       "<div>\n",
       "<style scoped>\n",
       "    .dataframe tbody tr th:only-of-type {\n",
       "        vertical-align: middle;\n",
       "    }\n",
       "\n",
       "    .dataframe tbody tr th {\n",
       "        vertical-align: top;\n",
       "    }\n",
       "\n",
       "    .dataframe thead th {\n",
       "        text-align: right;\n",
       "    }\n",
       "</style>\n",
       "<table border=\"1\" class=\"dataframe\">\n",
       "  <thead>\n",
       "    <tr style=\"text-align: right;\">\n",
       "      <th></th>\n",
       "      <th>polarity</th>\n",
       "      <th>tweet</th>\n",
       "    </tr>\n",
       "  </thead>\n",
       "  <tbody>\n",
       "    <tr>\n",
       "      <th>0</th>\n",
       "      <td>-0.500000</td>\n",
       "      <td>diagnosing why the us has so blatantly failed ...</td>\n",
       "    </tr>\n",
       "    <tr>\n",
       "      <th>1</th>\n",
       "      <td>0.000000</td>\n",
       "      <td>bill nye is still the science show king and he...</td>\n",
       "    </tr>\n",
       "    <tr>\n",
       "      <th>2</th>\n",
       "      <td>0.333333</td>\n",
       "      <td>stellar detailed reporting from florida on gov...</td>\n",
       "    </tr>\n",
       "    <tr>\n",
       "      <th>3</th>\n",
       "      <td>0.000000</td>\n",
       "      <td>rt dr2nisreenalwan some facts children can get...</td>\n",
       "    </tr>\n",
       "    <tr>\n",
       "      <th>4</th>\n",
       "      <td>-0.250000</td>\n",
       "      <td>rt abraarkaran a quarter of all detected covid...</td>\n",
       "    </tr>\n",
       "  </tbody>\n",
       "</table>\n",
       "</div>"
      ],
      "text/plain": [
       "   polarity                                              tweet\n",
       "0 -0.500000  diagnosing why the us has so blatantly failed ...\n",
       "1  0.000000  bill nye is still the science show king and he...\n",
       "2  0.333333  stellar detailed reporting from florida on gov...\n",
       "3  0.000000  rt dr2nisreenalwan some facts children can get...\n",
       "4 -0.250000  rt abraarkaran a quarter of all detected covid..."
      ]
     },
     "execution_count": 79,
     "metadata": {},
     "output_type": "execute_result"
    }
   ],
   "source": [
    "# Create dataframe containing the polarity value and tweet text\n",
    "illinois_sentiment_df = pd.DataFrame(illinois_sentiment_values, columns=[\"polarity\", \"tweet\"])\n",
    "\n",
    "illinois_sentiment_df.head()"
   ]
  },
  {
   "cell_type": "code",
   "execution_count": 80,
   "metadata": {},
   "outputs": [
    {
     "data": {
      "text/html": [
       "<div>\n",
       "<style scoped>\n",
       "    .dataframe tbody tr th:only-of-type {\n",
       "        vertical-align: middle;\n",
       "    }\n",
       "\n",
       "    .dataframe tbody tr th {\n",
       "        vertical-align: top;\n",
       "    }\n",
       "\n",
       "    .dataframe thead th {\n",
       "        text-align: right;\n",
       "    }\n",
       "</style>\n",
       "<table border=\"1\" class=\"dataframe\">\n",
       "  <thead>\n",
       "    <tr style=\"text-align: right;\">\n",
       "      <th></th>\n",
       "      <th>polarity</th>\n",
       "      <th>tweet</th>\n",
       "      <th>sentiment</th>\n",
       "    </tr>\n",
       "  </thead>\n",
       "  <tbody>\n",
       "    <tr>\n",
       "      <th>0</th>\n",
       "      <td>-0.500000</td>\n",
       "      <td>diagnosing why the us has so blatantly failed ...</td>\n",
       "      <td>negative</td>\n",
       "    </tr>\n",
       "    <tr>\n",
       "      <th>1</th>\n",
       "      <td>0.000000</td>\n",
       "      <td>bill nye is still the science show king and he...</td>\n",
       "      <td>neutral</td>\n",
       "    </tr>\n",
       "    <tr>\n",
       "      <th>2</th>\n",
       "      <td>0.333333</td>\n",
       "      <td>stellar detailed reporting from florida on gov...</td>\n",
       "      <td>positive</td>\n",
       "    </tr>\n",
       "    <tr>\n",
       "      <th>3</th>\n",
       "      <td>0.000000</td>\n",
       "      <td>rt dr2nisreenalwan some facts children can get...</td>\n",
       "      <td>neutral</td>\n",
       "    </tr>\n",
       "    <tr>\n",
       "      <th>4</th>\n",
       "      <td>-0.250000</td>\n",
       "      <td>rt abraarkaran a quarter of all detected covid...</td>\n",
       "      <td>negative</td>\n",
       "    </tr>\n",
       "  </tbody>\n",
       "</table>\n",
       "</div>"
      ],
      "text/plain": [
       "   polarity                                              tweet sentiment\n",
       "0 -0.500000  diagnosing why the us has so blatantly failed ...  negative\n",
       "1  0.000000  bill nye is still the science show king and he...   neutral\n",
       "2  0.333333  stellar detailed reporting from florida on gov...  positive\n",
       "3  0.000000  rt dr2nisreenalwan some facts children can get...   neutral\n",
       "4 -0.250000  rt abraarkaran a quarter of all detected covid...  negative"
      ]
     },
     "execution_count": 80,
     "metadata": {},
     "output_type": "execute_result"
    }
   ],
   "source": [
    "# create a list of our conditions\n",
    "conditions = [\n",
    "    (illinois_sentiment_df['polarity'] > 0),\n",
    "    (illinois_sentiment_df['polarity'] < 0),\n",
    "    (illinois_sentiment_df['polarity'] == 0)\n",
    "    ]\n",
    "\n",
    "# create a list of the values we want to assign for each condition\n",
    "values = ['positive', 'negative', 'neutral']\n",
    "\n",
    "# create a new column and use np.select to assign values to it using our lists as arguments\n",
    "illinois_sentiment_df['sentiment'] = np.select(conditions, values)\n",
    "\n",
    "# display updated DataFrame\n",
    "illinois_sentiment_df.head()"
   ]
  },
  {
   "cell_type": "code",
   "execution_count": 66,
   "metadata": {},
   "outputs": [
    {
     "data": {
      "image/png": "[encoded data removed]",
      "text/plain": [
       "<Figure size 432x288 with 1 Axes>"
      ]
     },
     "metadata": {},
     "output_type": "display_data"
    }
   ],
   "source": [
    "sentiment_count = sentiment_df['sentiment'].value_counts()\n",
    "sns.set(style=\"darkgrid\")\n",
    "sns.barplot(sentiment_count.index, sentiment_count.values, alpha=0.9)\n",
    "plt.title('Frequency Distribution of Sentiment')\n",
    "plt.ylabel('Number of Occurrences', fontsize=12)\n",
    "plt.xlabel('Sentiment', fontsize=12)\n",
    "plt.show()"
   ]
  },
  {
   "cell_type": "markdown",
   "metadata": {},
   "source": [
    "# Indiana Sentiment"
   ]
  },
  {
   "cell_type": "code",
   "execution_count": 56,
   "metadata": {},
   "outputs": [
    {
     "data": {
      "text/html": [
       "<div>\n",
       "<style scoped>\n",
       "    .dataframe tbody tr th:only-of-type {\n",
       "        vertical-align: middle;\n",
       "    }\n",
       "\n",
       "    .dataframe tbody tr th {\n",
       "        vertical-align: top;\n",
       "    }\n",
       "\n",
       "    .dataframe thead th {\n",
       "        text-align: right;\n",
       "    }\n",
       "</style>\n",
       "<table border=\"1\" class=\"dataframe\">\n",
       "  <thead>\n",
       "    <tr style=\"text-align: right;\">\n",
       "      <th></th>\n",
       "      <th>id</th>\n",
       "      <th>create_date</th>\n",
       "      <th>state</th>\n",
       "      <th>sentiment</th>\n",
       "      <th>text</th>\n",
       "    </tr>\n",
       "  </thead>\n",
       "  <tbody>\n",
       "    <tr>\n",
       "      <th>0</th>\n",
       "      <td>7d87f87a-0e0a-4541-89ca-4b314918a986</td>\n",
       "      <td>2020-12-05 14:56:38</td>\n",
       "      <td>indiana</td>\n",
       "      <td>UNKNOWN</td>\n",
       "      <td>Diagnosing why the US has so blatantly failed ...</td>\n",
       "    </tr>\n",
       "    <tr>\n",
       "      <th>1</th>\n",
       "      <td>0ad160cc-ffc5-4c7f-8ce7-f90b3300ab7d</td>\n",
       "      <td>2020-12-05 00:28:37</td>\n",
       "      <td>indiana</td>\n",
       "      <td>UNKNOWN</td>\n",
       "      <td>BILL NYE is still the science show king. And h...</td>\n",
       "    </tr>\n",
       "    <tr>\n",
       "      <th>2</th>\n",
       "      <td>331db340-92d4-4cba-a386-06d128bc7ade</td>\n",
       "      <td>2020-12-05 06:06:44</td>\n",
       "      <td>indiana</td>\n",
       "      <td>UNKNOWN</td>\n",
       "      <td>Stellar detailed reporting from Florida on Gov...</td>\n",
       "    </tr>\n",
       "    <tr>\n",
       "      <th>3</th>\n",
       "      <td>9a16a14a-fb98-4d25-8af1-418354051de8</td>\n",
       "      <td>2020-12-06 19:13:47</td>\n",
       "      <td>indiana</td>\n",
       "      <td>UNKNOWN</td>\n",
       "      <td>RT @JamesFe20066451: In Tier 3 Areas during th...</td>\n",
       "    </tr>\n",
       "    <tr>\n",
       "      <th>4</th>\n",
       "      <td>d2efb006-c2c2-447c-9b7c-457fe38ad3f1</td>\n",
       "      <td>2020-12-06 19:13:46</td>\n",
       "      <td>indiana</td>\n",
       "      <td>UNKNOWN</td>\n",
       "      <td>Morticia Addams my art in print. Wear this des...</td>\n",
       "    </tr>\n",
       "  </tbody>\n",
       "</table>\n",
       "</div>"
      ],
      "text/plain": [
       "                                     id          create_date    state  \\\n",
       "0  7d87f87a-0e0a-4541-89ca-4b314918a986  2020-12-05 14:56:38  indiana   \n",
       "1  0ad160cc-ffc5-4c7f-8ce7-f90b3300ab7d  2020-12-05 00:28:37  indiana   \n",
       "2  331db340-92d4-4cba-a386-06d128bc7ade  2020-12-05 06:06:44  indiana   \n",
       "3  9a16a14a-fb98-4d25-8af1-418354051de8  2020-12-06 19:13:47  indiana   \n",
       "4  d2efb006-c2c2-447c-9b7c-457fe38ad3f1  2020-12-06 19:13:46  indiana   \n",
       "\n",
       "  sentiment                                               text  \n",
       "0   UNKNOWN  Diagnosing why the US has so blatantly failed ...  \n",
       "1   UNKNOWN  BILL NYE is still the science show king. And h...  \n",
       "2   UNKNOWN  Stellar detailed reporting from Florida on Gov...  \n",
       "3   UNKNOWN  RT @JamesFe20066451: In Tier 3 Areas during th...  \n",
       "4   UNKNOWN  Morticia Addams my art in print. Wear this des...  "
      ]
     },
     "execution_count": 56,
     "metadata": {},
     "output_type": "execute_result"
    }
   ],
   "source": [
    "indiana_twitter_data = pd.read_csv('data/states/indiana.csv')\n",
    "indiana_twitter_data.head()"
   ]
  },
  {
   "cell_type": "code",
   "execution_count": 57,
   "metadata": {},
   "outputs": [],
   "source": [
    "count = 0\n",
    "tweet_dict = {}\n",
    "for tweet in indiana_twitter_data[\"text\"]:\n",
    "    tweet_dict[count] = remove_url(tweet.lower())\n",
    "    #tweet_dict[count] = tweet.lower()\n",
    "    count += 1"
   ]
  },
  {
   "cell_type": "code",
   "execution_count": 81,
   "metadata": {},
   "outputs": [
    {
     "data": {
      "text/plain": [
       "(-0.5,\n",
       " TextBlob(\"diagnosing why the us has so blatantly failed to respond to covid19 by 2 tweets\"))"
      ]
     },
     "execution_count": 81,
     "metadata": {},
     "output_type": "execute_result"
    }
   ],
   "source": [
    "# Create textblob objects of the tweets\n",
    "indiana_sentiment_objects = [TextBlob(tweet) for tweet in tweet_dict.values()]\n",
    "\n",
    "indiana_sentiment_objects[0].polarity, indiana_sentiment_objects[0]"
   ]
  },
  {
   "cell_type": "code",
   "execution_count": 82,
   "metadata": {},
   "outputs": [
    {
     "data": {
      "text/plain": [
       "[-0.5,\n",
       " 'diagnosing why the us has so blatantly failed to respond to covid19 by 2 tweets']"
      ]
     },
     "execution_count": 82,
     "metadata": {},
     "output_type": "execute_result"
    }
   ],
   "source": [
    "# Create list of polarity values and tweet text\n",
    "indiana_sentiment_values = [[tweet.sentiment.polarity, str(tweet)] for tweet in indiana_sentiment_objects]\n",
    "indiana_sentiment_values[0]"
   ]
  },
  {
   "cell_type": "code",
   "execution_count": 107,
   "metadata": {},
   "outputs": [
    {
     "data": {
      "text/html": [
       "<div>\n",
       "<style scoped>\n",
       "    .dataframe tbody tr th:only-of-type {\n",
       "        vertical-align: middle;\n",
       "    }\n",
       "\n",
       "    .dataframe tbody tr th {\n",
       "        vertical-align: top;\n",
       "    }\n",
       "\n",
       "    .dataframe thead th {\n",
       "        text-align: right;\n",
       "    }\n",
       "</style>\n",
       "<table border=\"1\" class=\"dataframe\">\n",
       "  <thead>\n",
       "    <tr style=\"text-align: right;\">\n",
       "      <th></th>\n",
       "      <th>polarity</th>\n",
       "      <th>tweet</th>\n",
       "    </tr>\n",
       "  </thead>\n",
       "  <tbody>\n",
       "    <tr>\n",
       "      <th>0</th>\n",
       "      <td>-0.500000</td>\n",
       "      <td>diagnosing why the us has so blatantly failed ...</td>\n",
       "    </tr>\n",
       "    <tr>\n",
       "      <th>1</th>\n",
       "      <td>0.000000</td>\n",
       "      <td>bill nye is still the science show king and he...</td>\n",
       "    </tr>\n",
       "    <tr>\n",
       "      <th>2</th>\n",
       "      <td>0.333333</td>\n",
       "      <td>stellar detailed reporting from florida on gov...</td>\n",
       "    </tr>\n",
       "    <tr>\n",
       "      <th>3</th>\n",
       "      <td>0.000000</td>\n",
       "      <td>rt dr2nisreenalwan some facts children can get...</td>\n",
       "    </tr>\n",
       "    <tr>\n",
       "      <th>4</th>\n",
       "      <td>-0.250000</td>\n",
       "      <td>rt abraarkaran a quarter of all detected covid...</td>\n",
       "    </tr>\n",
       "  </tbody>\n",
       "</table>\n",
       "</div>"
      ],
      "text/plain": [
       "   polarity                                              tweet\n",
       "0 -0.500000  diagnosing why the us has so blatantly failed ...\n",
       "1  0.000000  bill nye is still the science show king and he...\n",
       "2  0.333333  stellar detailed reporting from florida on gov...\n",
       "3  0.000000  rt dr2nisreenalwan some facts children can get...\n",
       "4 -0.250000  rt abraarkaran a quarter of all detected covid..."
      ]
     },
     "execution_count": 107,
     "metadata": {},
     "output_type": "execute_result"
    }
   ],
   "source": [
    "# Create dataframe containing the polarity value and tweet text\n",
    "indiana_sentiment_df = pd.DataFrame(indiana_sentiment_values, columns=[\"polarity\", \"tweet\"])\n",
    "\n",
    "indiana_sentiment_df.head()"
   ]
  },
  {
   "cell_type": "code",
   "execution_count": 83,
   "metadata": {},
   "outputs": [
    {
     "data": {
      "text/html": [
       "<div>\n",
       "<style scoped>\n",
       "    .dataframe tbody tr th:only-of-type {\n",
       "        vertical-align: middle;\n",
       "    }\n",
       "\n",
       "    .dataframe tbody tr th {\n",
       "        vertical-align: top;\n",
       "    }\n",
       "\n",
       "    .dataframe thead th {\n",
       "        text-align: right;\n",
       "    }\n",
       "</style>\n",
       "<table border=\"1\" class=\"dataframe\">\n",
       "  <thead>\n",
       "    <tr style=\"text-align: right;\">\n",
       "      <th></th>\n",
       "      <th>polarity</th>\n",
       "      <th>tweet</th>\n",
       "      <th>sentiment</th>\n",
       "    </tr>\n",
       "  </thead>\n",
       "  <tbody>\n",
       "    <tr>\n",
       "      <th>0</th>\n",
       "      <td>-0.500000</td>\n",
       "      <td>diagnosing why the us has so blatantly failed ...</td>\n",
       "      <td>negative</td>\n",
       "    </tr>\n",
       "    <tr>\n",
       "      <th>1</th>\n",
       "      <td>0.000000</td>\n",
       "      <td>bill nye is still the science show king and he...</td>\n",
       "      <td>neutral</td>\n",
       "    </tr>\n",
       "    <tr>\n",
       "      <th>2</th>\n",
       "      <td>0.333333</td>\n",
       "      <td>stellar detailed reporting from florida on gov...</td>\n",
       "      <td>positive</td>\n",
       "    </tr>\n",
       "    <tr>\n",
       "      <th>3</th>\n",
       "      <td>0.000000</td>\n",
       "      <td>rt dr2nisreenalwan some facts children can get...</td>\n",
       "      <td>neutral</td>\n",
       "    </tr>\n",
       "    <tr>\n",
       "      <th>4</th>\n",
       "      <td>-0.250000</td>\n",
       "      <td>rt abraarkaran a quarter of all detected covid...</td>\n",
       "      <td>negative</td>\n",
       "    </tr>\n",
       "  </tbody>\n",
       "</table>\n",
       "</div>"
      ],
      "text/plain": [
       "   polarity                                              tweet sentiment\n",
       "0 -0.500000  diagnosing why the us has so blatantly failed ...  negative\n",
       "1  0.000000  bill nye is still the science show king and he...   neutral\n",
       "2  0.333333  stellar detailed reporting from florida on gov...  positive\n",
       "3  0.000000  rt dr2nisreenalwan some facts children can get...   neutral\n",
       "4 -0.250000  rt abraarkaran a quarter of all detected covid...  negative"
      ]
     },
     "execution_count": 83,
     "metadata": {},
     "output_type": "execute_result"
    }
   ],
   "source": [
    "# create a list of our conditions\n",
    "conditions = [\n",
    "    (indiana_sentiment_df['polarity'] > 0),\n",
    "    (indiana_sentiment_df['polarity'] < 0),\n",
    "    (indiana_sentiment_df['polarity'] == 0)\n",
    "    ]\n",
    "\n",
    "# create a list of the values we want to assign for each condition\n",
    "values = ['positive', 'negative', 'neutral']\n",
    "\n",
    "# create a new column and use np.select to assign values to it using our lists as arguments\n",
    "indiana_sentiment_df['sentiment'] = np.select(conditions, values)\n",
    "\n",
    "# display updated DataFrame\n",
    "indiana_sentiment_df.head()"
   ]
  },
  {
   "cell_type": "markdown",
   "metadata": {},
   "source": [
    "# Texas Sentiment"
   ]
  },
  {
   "cell_type": "code",
   "execution_count": 90,
   "metadata": {},
   "outputs": [
    {
     "data": {
      "text/html": [
       "<div>\n",
       "<style scoped>\n",
       "    .dataframe tbody tr th:only-of-type {\n",
       "        vertical-align: middle;\n",
       "    }\n",
       "\n",
       "    .dataframe tbody tr th {\n",
       "        vertical-align: top;\n",
       "    }\n",
       "\n",
       "    .dataframe thead th {\n",
       "        text-align: right;\n",
       "    }\n",
       "</style>\n",
       "<table border=\"1\" class=\"dataframe\">\n",
       "  <thead>\n",
       "    <tr style=\"text-align: right;\">\n",
       "      <th></th>\n",
       "      <th>id</th>\n",
       "      <th>create_date</th>\n",
       "      <th>state</th>\n",
       "      <th>sentiment</th>\n",
       "      <th>text</th>\n",
       "    </tr>\n",
       "  </thead>\n",
       "  <tbody>\n",
       "    <tr>\n",
       "      <th>0</th>\n",
       "      <td>d60a351b-cd0e-40d8-b0e8-41e6e65c9bf4</td>\n",
       "      <td>2020-12-05 14:56:38</td>\n",
       "      <td>texas</td>\n",
       "      <td>UNKNOWN</td>\n",
       "      <td>Diagnosing why the US has so blatantly failed ...</td>\n",
       "    </tr>\n",
       "    <tr>\n",
       "      <th>1</th>\n",
       "      <td>c81fae8a-3e11-441d-8e4b-68ee85707d72</td>\n",
       "      <td>2020-12-05 00:28:37</td>\n",
       "      <td>texas</td>\n",
       "      <td>UNKNOWN</td>\n",
       "      <td>BILL NYE is still the science show king. And h...</td>\n",
       "    </tr>\n",
       "    <tr>\n",
       "      <th>2</th>\n",
       "      <td>4825a05f-fd18-432f-8b47-67bd4e7077c5</td>\n",
       "      <td>2020-12-05 06:06:44</td>\n",
       "      <td>texas</td>\n",
       "      <td>UNKNOWN</td>\n",
       "      <td>Stellar detailed reporting from Florida on Gov...</td>\n",
       "    </tr>\n",
       "    <tr>\n",
       "      <th>3</th>\n",
       "      <td>45742985-74f1-44c8-a5fb-96b1bda1ddb9</td>\n",
       "      <td>2020-12-06 20:16:52</td>\n",
       "      <td>texas</td>\n",
       "      <td>UNKNOWN</td>\n",
       "      <td>Stay in your #bubble #COVIDIOTS #COVID19 https...</td>\n",
       "    </tr>\n",
       "    <tr>\n",
       "      <th>4</th>\n",
       "      <td>61c6b576-12e9-49c9-9ba6-163b530eeb5f</td>\n",
       "      <td>2020-12-06 20:16:51</td>\n",
       "      <td>texas</td>\n",
       "      <td>UNKNOWN</td>\n",
       "      <td>Thank you @MarisePayne @GregHuntMP @AlexHawkeM...</td>\n",
       "    </tr>\n",
       "  </tbody>\n",
       "</table>\n",
       "</div>"
      ],
      "text/plain": [
       "                                     id          create_date  state sentiment  \\\n",
       "0  d60a351b-cd0e-40d8-b0e8-41e6e65c9bf4  2020-12-05 14:56:38  texas   UNKNOWN   \n",
       "1  c81fae8a-3e11-441d-8e4b-68ee85707d72  2020-12-05 00:28:37  texas   UNKNOWN   \n",
       "2  4825a05f-fd18-432f-8b47-67bd4e7077c5  2020-12-05 06:06:44  texas   UNKNOWN   \n",
       "3  45742985-74f1-44c8-a5fb-96b1bda1ddb9  2020-12-06 20:16:52  texas   UNKNOWN   \n",
       "4  61c6b576-12e9-49c9-9ba6-163b530eeb5f  2020-12-06 20:16:51  texas   UNKNOWN   \n",
       "\n",
       "                                                text  \n",
       "0  Diagnosing why the US has so blatantly failed ...  \n",
       "1  BILL NYE is still the science show king. And h...  \n",
       "2  Stellar detailed reporting from Florida on Gov...  \n",
       "3  Stay in your #bubble #COVIDIOTS #COVID19 https...  \n",
       "4  Thank you @MarisePayne @GregHuntMP @AlexHawkeM...  "
      ]
     },
     "execution_count": 90,
     "metadata": {},
     "output_type": "execute_result"
    }
   ],
   "source": [
    "texas_twitter_data = pd.read_csv('data/states/texas.csv')\n",
    "texas_twitter_data.head()"
   ]
  },
  {
   "cell_type": "code",
   "execution_count": 91,
   "metadata": {},
   "outputs": [],
   "source": [
    "count = 0\n",
    "tweet_dict = {}\n",
    "for tweet in texas_twitter_data[\"text\"]:\n",
    "    tweet_dict[count] = remove_url(tweet.lower())\n",
    "    #tweet_dict[count] = tweet.lower()\n",
    "    count += 1"
   ]
  },
  {
   "cell_type": "code",
   "execution_count": 95,
   "metadata": {},
   "outputs": [
    {
     "data": {
      "text/plain": [
       "(-0.5,\n",
       " TextBlob(\"diagnosing why the us has so blatantly failed to respond to covid19 by 2 tweets\"))"
      ]
     },
     "execution_count": 95,
     "metadata": {},
     "output_type": "execute_result"
    }
   ],
   "source": [
    "# Create textblob objects of the tweets\n",
    "texas_sentiment_objects = [TextBlob(tweet) for tweet in tweet_dict.values()]\n",
    "\n",
    "texas_sentiment_objects[0].polarity, texas_sentiment_objects[0]"
   ]
  },
  {
   "cell_type": "code",
   "execution_count": 103,
   "metadata": {},
   "outputs": [
    {
     "data": {
      "text/plain": [
       "[-0.5,\n",
       " 'diagnosing why the us has so blatantly failed to respond to covid19 by 2 tweets']"
      ]
     },
     "execution_count": 103,
     "metadata": {},
     "output_type": "execute_result"
    }
   ],
   "source": [
    "# Create list of polarity values and tweet text\n",
    "texas_sentiment_values = [[tweet.sentiment.polarity, str(tweet)] for tweet in texas_sentiment_objects]\n",
    "texas_sentiment_values[0]"
   ]
  },
  {
   "cell_type": "code",
   "execution_count": 108,
   "metadata": {},
   "outputs": [
    {
     "data": {
      "text/html": [
       "<div>\n",
       "<style scoped>\n",
       "    .dataframe tbody tr th:only-of-type {\n",
       "        vertical-align: middle;\n",
       "    }\n",
       "\n",
       "    .dataframe tbody tr th {\n",
       "        vertical-align: top;\n",
       "    }\n",
       "\n",
       "    .dataframe thead th {\n",
       "        text-align: right;\n",
       "    }\n",
       "</style>\n",
       "<table border=\"1\" class=\"dataframe\">\n",
       "  <thead>\n",
       "    <tr style=\"text-align: right;\">\n",
       "      <th></th>\n",
       "      <th>polarity</th>\n",
       "      <th>tweet</th>\n",
       "    </tr>\n",
       "  </thead>\n",
       "  <tbody>\n",
       "    <tr>\n",
       "      <th>0</th>\n",
       "      <td>-0.500000</td>\n",
       "      <td>diagnosing why the us has so blatantly failed ...</td>\n",
       "    </tr>\n",
       "    <tr>\n",
       "      <th>1</th>\n",
       "      <td>0.000000</td>\n",
       "      <td>bill nye is still the science show king and he...</td>\n",
       "    </tr>\n",
       "    <tr>\n",
       "      <th>2</th>\n",
       "      <td>0.333333</td>\n",
       "      <td>stellar detailed reporting from florida on gov...</td>\n",
       "    </tr>\n",
       "    <tr>\n",
       "      <th>3</th>\n",
       "      <td>0.000000</td>\n",
       "      <td>stay in your bubble covidiots covid19</td>\n",
       "    </tr>\n",
       "    <tr>\n",
       "      <th>4</th>\n",
       "      <td>0.437500</td>\n",
       "      <td>thank you marisepayne greghuntmp alexhawkemp s...</td>\n",
       "    </tr>\n",
       "  </tbody>\n",
       "</table>\n",
       "</div>"
      ],
      "text/plain": [
       "   polarity                                              tweet\n",
       "0 -0.500000  diagnosing why the us has so blatantly failed ...\n",
       "1  0.000000  bill nye is still the science show king and he...\n",
       "2  0.333333  stellar detailed reporting from florida on gov...\n",
       "3  0.000000              stay in your bubble covidiots covid19\n",
       "4  0.437500  thank you marisepayne greghuntmp alexhawkemp s..."
      ]
     },
     "execution_count": 108,
     "metadata": {},
     "output_type": "execute_result"
    }
   ],
   "source": [
    "# Create dataframe containing the polarity value and tweet text\n",
    "texas_sentiment_df = pd.DataFrame(texas_sentiment_values, columns=[\"polarity\", \"tweet\"])\n",
    "\n",
    "texas_sentiment_df.head()"
   ]
  },
  {
   "cell_type": "code",
   "execution_count": 98,
   "metadata": {},
   "outputs": [
    {
     "data": {
      "text/html": [
       "<div>\n",
       "<style scoped>\n",
       "    .dataframe tbody tr th:only-of-type {\n",
       "        vertical-align: middle;\n",
       "    }\n",
       "\n",
       "    .dataframe tbody tr th {\n",
       "        vertical-align: top;\n",
       "    }\n",
       "\n",
       "    .dataframe thead th {\n",
       "        text-align: right;\n",
       "    }\n",
       "</style>\n",
       "<table border=\"1\" class=\"dataframe\">\n",
       "  <thead>\n",
       "    <tr style=\"text-align: right;\">\n",
       "      <th></th>\n",
       "      <th>polarity</th>\n",
       "      <th>tweet</th>\n",
       "      <th>sentiment</th>\n",
       "    </tr>\n",
       "  </thead>\n",
       "  <tbody>\n",
       "    <tr>\n",
       "      <th>0</th>\n",
       "      <td>-0.500000</td>\n",
       "      <td>diagnosing why the us has so blatantly failed ...</td>\n",
       "      <td>negative</td>\n",
       "    </tr>\n",
       "    <tr>\n",
       "      <th>1</th>\n",
       "      <td>0.000000</td>\n",
       "      <td>bill nye is still the science show king and he...</td>\n",
       "      <td>neutral</td>\n",
       "    </tr>\n",
       "    <tr>\n",
       "      <th>2</th>\n",
       "      <td>0.333333</td>\n",
       "      <td>stellar detailed reporting from florida on gov...</td>\n",
       "      <td>positive</td>\n",
       "    </tr>\n",
       "    <tr>\n",
       "      <th>3</th>\n",
       "      <td>0.000000</td>\n",
       "      <td>rt dr2nisreenalwan some facts children can get...</td>\n",
       "      <td>neutral</td>\n",
       "    </tr>\n",
       "    <tr>\n",
       "      <th>4</th>\n",
       "      <td>-0.250000</td>\n",
       "      <td>rt abraarkaran a quarter of all detected covid...</td>\n",
       "      <td>negative</td>\n",
       "    </tr>\n",
       "  </tbody>\n",
       "</table>\n",
       "</div>"
      ],
      "text/plain": [
       "   polarity                                              tweet sentiment\n",
       "0 -0.500000  diagnosing why the us has so blatantly failed ...  negative\n",
       "1  0.000000  bill nye is still the science show king and he...   neutral\n",
       "2  0.333333  stellar detailed reporting from florida on gov...  positive\n",
       "3  0.000000  rt dr2nisreenalwan some facts children can get...   neutral\n",
       "4 -0.250000  rt abraarkaran a quarter of all detected covid...  negative"
      ]
     },
     "execution_count": 98,
     "metadata": {},
     "output_type": "execute_result"
    }
   ],
   "source": [
    "# create a list of our conditions\n",
    "conditions = [\n",
    "    (texas_sentiment_df['polarity'] > 0),\n",
    "    (texas_sentiment_df['polarity'] < 0),\n",
    "    (texas_sentiment_df['polarity'] == 0)\n",
    "    ]\n",
    "\n",
    "# create a list of the values we want to assign for each condition\n",
    "values = ['positive', 'negative', 'neutral']\n",
    "\n",
    "# create a new column and use np.select to assign values to it using our lists as arguments\n",
    "texas_sentiment_df['sentiment'] = np.select(conditions, values)\n",
    "\n",
    "# display updated DataFrame\n",
    "texas_sentiment_df.head()"
   ]
  },
  {
   "cell_type": "markdown",
   "metadata": {},
   "source": [
    "# New Mexico Sentiment"
   ]
  },
  {
   "cell_type": "code",
   "execution_count": 99,
   "metadata": {},
   "outputs": [
    {
     "data": {
      "text/html": [
       "<div>\n",
       "<style scoped>\n",
       "    .dataframe tbody tr th:only-of-type {\n",
       "        vertical-align: middle;\n",
       "    }\n",
       "\n",
       "    .dataframe tbody tr th {\n",
       "        vertical-align: top;\n",
       "    }\n",
       "\n",
       "    .dataframe thead th {\n",
       "        text-align: right;\n",
       "    }\n",
       "</style>\n",
       "<table border=\"1\" class=\"dataframe\">\n",
       "  <thead>\n",
       "    <tr style=\"text-align: right;\">\n",
       "      <th></th>\n",
       "      <th>id</th>\n",
       "      <th>create_date</th>\n",
       "      <th>state</th>\n",
       "      <th>sentiment</th>\n",
       "      <th>text</th>\n",
       "    </tr>\n",
       "  </thead>\n",
       "  <tbody>\n",
       "    <tr>\n",
       "      <th>0</th>\n",
       "      <td>f5b70e33-6e69-4272-a956-1c7d94e98f5e</td>\n",
       "      <td>2020-12-05 14:56:38</td>\n",
       "      <td>new_mexico</td>\n",
       "      <td>UNKNOWN</td>\n",
       "      <td>Diagnosing why the US has so blatantly failed ...</td>\n",
       "    </tr>\n",
       "    <tr>\n",
       "      <th>1</th>\n",
       "      <td>334c97da-ff98-4b66-9732-0bd178eca522</td>\n",
       "      <td>2020-12-05 00:28:37</td>\n",
       "      <td>new_mexico</td>\n",
       "      <td>UNKNOWN</td>\n",
       "      <td>BILL NYE is still the science show king. And h...</td>\n",
       "    </tr>\n",
       "    <tr>\n",
       "      <th>2</th>\n",
       "      <td>f467ed28-0f1a-4aab-b4d2-fe042b35d4f7</td>\n",
       "      <td>2020-12-05 06:06:44</td>\n",
       "      <td>new_mexico</td>\n",
       "      <td>UNKNOWN</td>\n",
       "      <td>Stellar detailed reporting from Florida on Gov...</td>\n",
       "    </tr>\n",
       "    <tr>\n",
       "      <th>3</th>\n",
       "      <td>f43d3fa7-9346-42c7-9e34-cb3863e69bff</td>\n",
       "      <td>2020-12-06 20:53:07</td>\n",
       "      <td>new_mexico</td>\n",
       "      <td>UNKNOWN</td>\n",
       "      <td>RT @CTZebra: Dr. Bodinr Thepchatri 73yo PCP De...</td>\n",
       "    </tr>\n",
       "    <tr>\n",
       "      <th>4</th>\n",
       "      <td>354d810f-ad08-4911-9d80-3da8fed67bcd</td>\n",
       "      <td>2020-12-06 20:53:06</td>\n",
       "      <td>new_mexico</td>\n",
       "      <td>UNKNOWN</td>\n",
       "      <td>@wolfofharcourt @DividendWave There’s also som...</td>\n",
       "    </tr>\n",
       "  </tbody>\n",
       "</table>\n",
       "</div>"
      ],
      "text/plain": [
       "                                     id          create_date       state  \\\n",
       "0  f5b70e33-6e69-4272-a956-1c7d94e98f5e  2020-12-05 14:56:38  new_mexico   \n",
       "1  334c97da-ff98-4b66-9732-0bd178eca522  2020-12-05 00:28:37  new_mexico   \n",
       "2  f467ed28-0f1a-4aab-b4d2-fe042b35d4f7  2020-12-05 06:06:44  new_mexico   \n",
       "3  f43d3fa7-9346-42c7-9e34-cb3863e69bff  2020-12-06 20:53:07  new_mexico   \n",
       "4  354d810f-ad08-4911-9d80-3da8fed67bcd  2020-12-06 20:53:06  new_mexico   \n",
       "\n",
       "  sentiment                                               text  \n",
       "0   UNKNOWN  Diagnosing why the US has so blatantly failed ...  \n",
       "1   UNKNOWN  BILL NYE is still the science show king. And h...  \n",
       "2   UNKNOWN  Stellar detailed reporting from Florida on Gov...  \n",
       "3   UNKNOWN  RT @CTZebra: Dr. Bodinr Thepchatri 73yo PCP De...  \n",
       "4   UNKNOWN  @wolfofharcourt @DividendWave There’s also som...  "
      ]
     },
     "execution_count": 99,
     "metadata": {},
     "output_type": "execute_result"
    }
   ],
   "source": [
    "new_mexico_twitter_data = pd.read_csv('data/states/new_mexico.csv')\n",
    "new_mexico_twitter_data.head()"
   ]
  },
  {
   "cell_type": "code",
   "execution_count": 100,
   "metadata": {},
   "outputs": [],
   "source": [
    "count = 0\n",
    "tweet_dict = {}\n",
    "for tweet in new_mexico_twitter_data[\"text\"]:\n",
    "    tweet_dict[count] = remove_url(tweet.lower())\n",
    "    #tweet_dict[count] = tweet.lower()\n",
    "    count += 1"
   ]
  },
  {
   "cell_type": "code",
   "execution_count": 101,
   "metadata": {},
   "outputs": [
    {
     "data": {
      "text/plain": [
       "(-0.5,\n",
       " TextBlob(\"diagnosing why the us has so blatantly failed to respond to covid19 by 2 tweets\"))"
      ]
     },
     "execution_count": 101,
     "metadata": {},
     "output_type": "execute_result"
    }
   ],
   "source": [
    "# Create textblob objects of the tweets\n",
    "new_mexico_sentiment_objects = [TextBlob(tweet) for tweet in tweet_dict.values()]\n",
    "\n",
    "new_mexico_sentiment_objects[0].polarity, new_mexico_sentiment_objects[0]"
   ]
  },
  {
   "cell_type": "code",
   "execution_count": 104,
   "metadata": {},
   "outputs": [
    {
     "data": {
      "text/plain": [
       "[-0.5,\n",
       " 'diagnosing why the us has so blatantly failed to respond to covid19 by 2 tweets']"
      ]
     },
     "execution_count": 104,
     "metadata": {},
     "output_type": "execute_result"
    }
   ],
   "source": [
    "# Create list of polarity values and tweet text\n",
    "new_mexico_sentiment_values = [[tweet.sentiment.polarity, str(tweet)] for tweet in new_mexico_sentiment_objects]\n",
    "new_mexico_sentiment_values[0]"
   ]
  },
  {
   "cell_type": "code",
   "execution_count": 109,
   "metadata": {},
   "outputs": [
    {
     "data": {
      "text/html": [
       "<div>\n",
       "<style scoped>\n",
       "    .dataframe tbody tr th:only-of-type {\n",
       "        vertical-align: middle;\n",
       "    }\n",
       "\n",
       "    .dataframe tbody tr th {\n",
       "        vertical-align: top;\n",
       "    }\n",
       "\n",
       "    .dataframe thead th {\n",
       "        text-align: right;\n",
       "    }\n",
       "</style>\n",
       "<table border=\"1\" class=\"dataframe\">\n",
       "  <thead>\n",
       "    <tr style=\"text-align: right;\">\n",
       "      <th></th>\n",
       "      <th>polarity</th>\n",
       "      <th>tweet</th>\n",
       "    </tr>\n",
       "  </thead>\n",
       "  <tbody>\n",
       "    <tr>\n",
       "      <th>0</th>\n",
       "      <td>-0.500000</td>\n",
       "      <td>diagnosing why the us has so blatantly failed ...</td>\n",
       "    </tr>\n",
       "    <tr>\n",
       "      <th>1</th>\n",
       "      <td>0.000000</td>\n",
       "      <td>bill nye is still the science show king and he...</td>\n",
       "    </tr>\n",
       "    <tr>\n",
       "      <th>2</th>\n",
       "      <td>0.333333</td>\n",
       "      <td>stellar detailed reporting from florida on gov...</td>\n",
       "    </tr>\n",
       "    <tr>\n",
       "      <th>3</th>\n",
       "      <td>0.000000</td>\n",
       "      <td>rt ctzebra dr bodinr thepchatri 73yo pcp denve...</td>\n",
       "    </tr>\n",
       "    <tr>\n",
       "      <th>4</th>\n",
       "      <td>0.360000</td>\n",
       "      <td>wolfofharcourt dividendwave theres also someth...</td>\n",
       "    </tr>\n",
       "  </tbody>\n",
       "</table>\n",
       "</div>"
      ],
      "text/plain": [
       "   polarity                                              tweet\n",
       "0 -0.500000  diagnosing why the us has so blatantly failed ...\n",
       "1  0.000000  bill nye is still the science show king and he...\n",
       "2  0.333333  stellar detailed reporting from florida on gov...\n",
       "3  0.000000  rt ctzebra dr bodinr thepchatri 73yo pcp denve...\n",
       "4  0.360000  wolfofharcourt dividendwave theres also someth..."
      ]
     },
     "execution_count": 109,
     "metadata": {},
     "output_type": "execute_result"
    }
   ],
   "source": [
    "# Create dataframe containing the polarity value and tweet text\n",
    "new_mexico_sentiment_df = pd.DataFrame(new_mexico_sentiment_values, columns=[\"polarity\", \"tweet\"])\n",
    "\n",
    "new_mexico_sentiment_df.head()"
   ]
  },
  {
   "cell_type": "code",
   "execution_count": 106,
   "metadata": {},
   "outputs": [
    {
     "data": {
      "text/html": [
       "<div>\n",
       "<style scoped>\n",
       "    .dataframe tbody tr th:only-of-type {\n",
       "        vertical-align: middle;\n",
       "    }\n",
       "\n",
       "    .dataframe tbody tr th {\n",
       "        vertical-align: top;\n",
       "    }\n",
       "\n",
       "    .dataframe thead th {\n",
       "        text-align: right;\n",
       "    }\n",
       "</style>\n",
       "<table border=\"1\" class=\"dataframe\">\n",
       "  <thead>\n",
       "    <tr style=\"text-align: right;\">\n",
       "      <th></th>\n",
       "      <th>polarity</th>\n",
       "      <th>tweet</th>\n",
       "      <th>sentiment</th>\n",
       "    </tr>\n",
       "  </thead>\n",
       "  <tbody>\n",
       "    <tr>\n",
       "      <th>0</th>\n",
       "      <td>-0.500000</td>\n",
       "      <td>diagnosing why the us has so blatantly failed ...</td>\n",
       "      <td>negative</td>\n",
       "    </tr>\n",
       "    <tr>\n",
       "      <th>1</th>\n",
       "      <td>0.000000</td>\n",
       "      <td>bill nye is still the science show king and he...</td>\n",
       "      <td>neutral</td>\n",
       "    </tr>\n",
       "    <tr>\n",
       "      <th>2</th>\n",
       "      <td>0.333333</td>\n",
       "      <td>stellar detailed reporting from florida on gov...</td>\n",
       "      <td>positive</td>\n",
       "    </tr>\n",
       "    <tr>\n",
       "      <th>3</th>\n",
       "      <td>0.000000</td>\n",
       "      <td>rt dr2nisreenalwan some facts children can get...</td>\n",
       "      <td>neutral</td>\n",
       "    </tr>\n",
       "    <tr>\n",
       "      <th>4</th>\n",
       "      <td>-0.250000</td>\n",
       "      <td>rt abraarkaran a quarter of all detected covid...</td>\n",
       "      <td>negative</td>\n",
       "    </tr>\n",
       "  </tbody>\n",
       "</table>\n",
       "</div>"
      ],
      "text/plain": [
       "   polarity                                              tweet sentiment\n",
       "0 -0.500000  diagnosing why the us has so blatantly failed ...  negative\n",
       "1  0.000000  bill nye is still the science show king and he...   neutral\n",
       "2  0.333333  stellar detailed reporting from florida on gov...  positive\n",
       "3  0.000000  rt dr2nisreenalwan some facts children can get...   neutral\n",
       "4 -0.250000  rt abraarkaran a quarter of all detected covid...  negative"
      ]
     },
     "execution_count": 106,
     "metadata": {},
     "output_type": "execute_result"
    }
   ],
   "source": [
    "# create a list of our conditions\n",
    "conditions = [\n",
    "    (new_mexico_sentiment_df['polarity'] > 0),\n",
    "    (new_mexico_sentiment_df['polarity'] < 0),\n",
    "    (new_mexico_sentiment_df['polarity'] == 0)\n",
    "    ]\n",
    "\n",
    "# create a list of the values we want to assign for each condition\n",
    "values = ['positive', 'negative', 'neutral']\n",
    "\n",
    "# create a new column and use np.select to assign values to it using our lists as arguments\n",
    "new_mexico_sentiment_df['sentiment'] = np.select(conditions, values)\n",
    "\n",
    "# display updated DataFrame\n",
    "new_mexico_sentiment_df.head()"
   ]
  },
  {
   "cell_type": "markdown",
   "metadata": {},
   "source": [
    "# Combining All Dataframes"
   ]
  },
  {
   "cell_type": "code",
   "execution_count": 118,
   "metadata": {},
   "outputs": [
    {
     "data": {
      "text/html": [
       "<div>\n",
       "<style scoped>\n",
       "    .dataframe tbody tr th:only-of-type {\n",
       "        vertical-align: middle;\n",
       "    }\n",
       "\n",
       "    .dataframe tbody tr th {\n",
       "        vertical-align: top;\n",
       "    }\n",
       "\n",
       "    .dataframe thead th {\n",
       "        text-align: right;\n",
       "    }\n",
       "</style>\n",
       "<table border=\"1\" class=\"dataframe\">\n",
       "  <thead>\n",
       "    <tr style=\"text-align: right;\">\n",
       "      <th></th>\n",
       "      <th>polarity</th>\n",
       "      <th>tweet</th>\n",
       "      <th>sentiment</th>\n",
       "    </tr>\n",
       "  </thead>\n",
       "  <tbody>\n",
       "    <tr>\n",
       "      <th>0</th>\n",
       "      <td>-0.500000</td>\n",
       "      <td>diagnosing why the us has so blatantly failed ...</td>\n",
       "      <td>negative</td>\n",
       "    </tr>\n",
       "    <tr>\n",
       "      <th>1</th>\n",
       "      <td>0.000000</td>\n",
       "      <td>bill nye is still the science show king and he...</td>\n",
       "      <td>neutral</td>\n",
       "    </tr>\n",
       "    <tr>\n",
       "      <th>2</th>\n",
       "      <td>0.333333</td>\n",
       "      <td>stellar detailed reporting from florida on gov...</td>\n",
       "      <td>positive</td>\n",
       "    </tr>\n",
       "    <tr>\n",
       "      <th>3</th>\n",
       "      <td>0.000000</td>\n",
       "      <td>rt dr2nisreenalwan some facts children can get...</td>\n",
       "      <td>neutral</td>\n",
       "    </tr>\n",
       "    <tr>\n",
       "      <th>4</th>\n",
       "      <td>-0.250000</td>\n",
       "      <td>rt abraarkaran a quarter of all detected covid...</td>\n",
       "      <td>negative</td>\n",
       "    </tr>\n",
       "    <tr>\n",
       "      <th>...</th>\n",
       "      <td>...</td>\n",
       "      <td>...</td>\n",
       "      <td>...</td>\n",
       "    </tr>\n",
       "    <tr>\n",
       "      <th>3995</th>\n",
       "      <td>0.068182</td>\n",
       "      <td>rt cosagov here is todays covid19 update for s...</td>\n",
       "      <td>NaN</td>\n",
       "    </tr>\n",
       "    <tr>\n",
       "      <th>3996</th>\n",
       "      <td>0.000000</td>\n",
       "      <td>rt jivoochi mattputz mattgaetz had covid19 ear...</td>\n",
       "      <td>NaN</td>\n",
       "    </tr>\n",
       "    <tr>\n",
       "      <th>3997</th>\n",
       "      <td>-0.125000</td>\n",
       "      <td>rt maximotorero we lost 20 years of progress o...</td>\n",
       "      <td>NaN</td>\n",
       "    </tr>\n",
       "    <tr>\n",
       "      <th>3998</th>\n",
       "      <td>0.366667</td>\n",
       "      <td>rt irishmissionun the interconnectedness of th...</td>\n",
       "      <td>NaN</td>\n",
       "    </tr>\n",
       "    <tr>\n",
       "      <th>3999</th>\n",
       "      <td>0.000000</td>\n",
       "      <td>rt trinityresists reminderthe house passed the...</td>\n",
       "      <td>NaN</td>\n",
       "    </tr>\n",
       "  </tbody>\n",
       "</table>\n",
       "<p>4000 rows × 3 columns</p>\n",
       "</div>"
      ],
      "text/plain": [
       "      polarity                                              tweet sentiment\n",
       "0    -0.500000  diagnosing why the us has so blatantly failed ...  negative\n",
       "1     0.000000  bill nye is still the science show king and he...   neutral\n",
       "2     0.333333  stellar detailed reporting from florida on gov...  positive\n",
       "3     0.000000  rt dr2nisreenalwan some facts children can get...   neutral\n",
       "4    -0.250000  rt abraarkaran a quarter of all detected covid...  negative\n",
       "...        ...                                                ...       ...\n",
       "3995  0.068182  rt cosagov here is todays covid19 update for s...       NaN\n",
       "3996  0.000000  rt jivoochi mattputz mattgaetz had covid19 ear...       NaN\n",
       "3997 -0.125000  rt maximotorero we lost 20 years of progress o...       NaN\n",
       "3998  0.366667  rt irishmissionun the interconnectedness of th...       NaN\n",
       "3999  0.000000  rt trinityresists reminderthe house passed the...       NaN\n",
       "\n",
       "[4000 rows x 3 columns]"
      ]
     },
     "execution_count": 118,
     "metadata": {},
     "output_type": "execute_result"
    }
   ],
   "source": [
    "# Create dataframe containing the polarity value and tweet text\n",
    "#states_sentiment_df = pd.DataFrame(illinois_sentiment_values, columns=[\"polarity\", \"tweet\"])\n",
    "\n",
    "states_sentiment_df = pd.concat([illinois_sentiment_df, indiana_sentiment_df, texas_sentiment_df, new_mexico_sentiment_df], ignore_index=True)\n",
    "\n",
    "states_sentiment_df\n",
    "\n",
    "#states_sentiment_df"
   ]
  },
  {
   "cell_type": "code",
   "execution_count": 128,
   "metadata": {},
   "outputs": [
    {
     "data": {
      "text/html": [
       "<div>\n",
       "<style scoped>\n",
       "    .dataframe tbody tr th:only-of-type {\n",
       "        vertical-align: middle;\n",
       "    }\n",
       "\n",
       "    .dataframe tbody tr th {\n",
       "        vertical-align: top;\n",
       "    }\n",
       "\n",
       "    .dataframe thead th {\n",
       "        text-align: right;\n",
       "    }\n",
       "</style>\n",
       "<table border=\"1\" class=\"dataframe\">\n",
       "  <thead>\n",
       "    <tr style=\"text-align: right;\">\n",
       "      <th></th>\n",
       "      <th>polarity</th>\n",
       "      <th>tweet</th>\n",
       "      <th>sentiment</th>\n",
       "      <th>total avg polarity</th>\n",
       "    </tr>\n",
       "  </thead>\n",
       "  <tbody>\n",
       "    <tr>\n",
       "      <th>0</th>\n",
       "      <td>-0.500000</td>\n",
       "      <td>diagnosing why the us has so blatantly failed ...</td>\n",
       "      <td>negative</td>\n",
       "      <td>0.027873</td>\n",
       "    </tr>\n",
       "    <tr>\n",
       "      <th>1</th>\n",
       "      <td>0.000000</td>\n",
       "      <td>bill nye is still the science show king and he...</td>\n",
       "      <td>neutral</td>\n",
       "      <td>0.027873</td>\n",
       "    </tr>\n",
       "    <tr>\n",
       "      <th>2</th>\n",
       "      <td>0.333333</td>\n",
       "      <td>stellar detailed reporting from florida on gov...</td>\n",
       "      <td>positive</td>\n",
       "      <td>0.027873</td>\n",
       "    </tr>\n",
       "    <tr>\n",
       "      <th>3</th>\n",
       "      <td>0.000000</td>\n",
       "      <td>rt dr2nisreenalwan some facts children can get...</td>\n",
       "      <td>neutral</td>\n",
       "      <td>0.027873</td>\n",
       "    </tr>\n",
       "    <tr>\n",
       "      <th>4</th>\n",
       "      <td>-0.250000</td>\n",
       "      <td>rt abraarkaran a quarter of all detected covid...</td>\n",
       "      <td>negative</td>\n",
       "      <td>0.027873</td>\n",
       "    </tr>\n",
       "  </tbody>\n",
       "</table>\n",
       "</div>"
      ],
      "text/plain": [
       "   polarity                                              tweet sentiment  \\\n",
       "0 -0.500000  diagnosing why the us has so blatantly failed ...  negative   \n",
       "1  0.000000  bill nye is still the science show king and he...   neutral   \n",
       "2  0.333333  stellar detailed reporting from florida on gov...  positive   \n",
       "3  0.000000  rt dr2nisreenalwan some facts children can get...   neutral   \n",
       "4 -0.250000  rt abraarkaran a quarter of all detected covid...  negative   \n",
       "\n",
       "   total avg polarity  \n",
       "0            0.027873  \n",
       "1            0.027873  \n",
       "2            0.027873  \n",
       "3            0.027873  \n",
       "4            0.027873  "
      ]
     },
     "execution_count": 128,
     "metadata": {},
     "output_type": "execute_result"
    }
   ],
   "source": [
    "index = illinois_sentiment_df.index\n",
    "\n",
    "illinois_sentiment_df['total avg polarity'] = illinois_sentiment_df['polarity'].sum()  / len(index)\n",
    "\n",
    "illinois_sentiment_df.head()"
   ]
  },
  {
   "cell_type": "code",
   "execution_count": 129,
   "metadata": {},
   "outputs": [
    {
     "data": {
      "text/html": [
       "<div>\n",
       "<style scoped>\n",
       "    .dataframe tbody tr th:only-of-type {\n",
       "        vertical-align: middle;\n",
       "    }\n",
       "\n",
       "    .dataframe tbody tr th {\n",
       "        vertical-align: top;\n",
       "    }\n",
       "\n",
       "    .dataframe thead th {\n",
       "        text-align: right;\n",
       "    }\n",
       "</style>\n",
       "<table border=\"1\" class=\"dataframe\">\n",
       "  <thead>\n",
       "    <tr style=\"text-align: right;\">\n",
       "      <th></th>\n",
       "      <th>polarity</th>\n",
       "      <th>tweet</th>\n",
       "      <th>total avg polarity</th>\n",
       "    </tr>\n",
       "  </thead>\n",
       "  <tbody>\n",
       "    <tr>\n",
       "      <th>0</th>\n",
       "      <td>-0.500000</td>\n",
       "      <td>diagnosing why the us has so blatantly failed ...</td>\n",
       "      <td>0.027873</td>\n",
       "    </tr>\n",
       "    <tr>\n",
       "      <th>1</th>\n",
       "      <td>0.000000</td>\n",
       "      <td>bill nye is still the science show king and he...</td>\n",
       "      <td>0.027873</td>\n",
       "    </tr>\n",
       "    <tr>\n",
       "      <th>2</th>\n",
       "      <td>0.333333</td>\n",
       "      <td>stellar detailed reporting from florida on gov...</td>\n",
       "      <td>0.027873</td>\n",
       "    </tr>\n",
       "    <tr>\n",
       "      <th>3</th>\n",
       "      <td>0.000000</td>\n",
       "      <td>rt dr2nisreenalwan some facts children can get...</td>\n",
       "      <td>0.027873</td>\n",
       "    </tr>\n",
       "    <tr>\n",
       "      <th>4</th>\n",
       "      <td>-0.250000</td>\n",
       "      <td>rt abraarkaran a quarter of all detected covid...</td>\n",
       "      <td>0.027873</td>\n",
       "    </tr>\n",
       "  </tbody>\n",
       "</table>\n",
       "</div>"
      ],
      "text/plain": [
       "   polarity                                              tweet  \\\n",
       "0 -0.500000  diagnosing why the us has so blatantly failed ...   \n",
       "1  0.000000  bill nye is still the science show king and he...   \n",
       "2  0.333333  stellar detailed reporting from florida on gov...   \n",
       "3  0.000000  rt dr2nisreenalwan some facts children can get...   \n",
       "4 -0.250000  rt abraarkaran a quarter of all detected covid...   \n",
       "\n",
       "   total avg polarity  \n",
       "0            0.027873  \n",
       "1            0.027873  \n",
       "2            0.027873  \n",
       "3            0.027873  \n",
       "4            0.027873  "
      ]
     },
     "execution_count": 129,
     "metadata": {},
     "output_type": "execute_result"
    }
   ],
   "source": [
    "index = indiana_sentiment_df.index\n",
    "\n",
    "indiana_sentiment_df['total avg polarity'] = indiana_sentiment_df['polarity'].sum() / len(index)\n",
    "\n",
    "indiana_sentiment_df.head()"
   ]
  },
  {
   "cell_type": "code",
   "execution_count": 130,
   "metadata": {},
   "outputs": [
    {
     "data": {
      "text/html": [
       "<div>\n",
       "<style scoped>\n",
       "    .dataframe tbody tr th:only-of-type {\n",
       "        vertical-align: middle;\n",
       "    }\n",
       "\n",
       "    .dataframe tbody tr th {\n",
       "        vertical-align: top;\n",
       "    }\n",
       "\n",
       "    .dataframe thead th {\n",
       "        text-align: right;\n",
       "    }\n",
       "</style>\n",
       "<table border=\"1\" class=\"dataframe\">\n",
       "  <thead>\n",
       "    <tr style=\"text-align: right;\">\n",
       "      <th></th>\n",
       "      <th>polarity</th>\n",
       "      <th>tweet</th>\n",
       "      <th>total avg polarity</th>\n",
       "    </tr>\n",
       "  </thead>\n",
       "  <tbody>\n",
       "    <tr>\n",
       "      <th>0</th>\n",
       "      <td>-0.500000</td>\n",
       "      <td>diagnosing why the us has so blatantly failed ...</td>\n",
       "      <td>0.025948</td>\n",
       "    </tr>\n",
       "    <tr>\n",
       "      <th>1</th>\n",
       "      <td>0.000000</td>\n",
       "      <td>bill nye is still the science show king and he...</td>\n",
       "      <td>0.025948</td>\n",
       "    </tr>\n",
       "    <tr>\n",
       "      <th>2</th>\n",
       "      <td>0.333333</td>\n",
       "      <td>stellar detailed reporting from florida on gov...</td>\n",
       "      <td>0.025948</td>\n",
       "    </tr>\n",
       "    <tr>\n",
       "      <th>3</th>\n",
       "      <td>0.000000</td>\n",
       "      <td>stay in your bubble covidiots covid19</td>\n",
       "      <td>0.025948</td>\n",
       "    </tr>\n",
       "    <tr>\n",
       "      <th>4</th>\n",
       "      <td>0.437500</td>\n",
       "      <td>thank you marisepayne greghuntmp alexhawkemp s...</td>\n",
       "      <td>0.025948</td>\n",
       "    </tr>\n",
       "  </tbody>\n",
       "</table>\n",
       "</div>"
      ],
      "text/plain": [
       "   polarity                                              tweet  \\\n",
       "0 -0.500000  diagnosing why the us has so blatantly failed ...   \n",
       "1  0.000000  bill nye is still the science show king and he...   \n",
       "2  0.333333  stellar detailed reporting from florida on gov...   \n",
       "3  0.000000              stay in your bubble covidiots covid19   \n",
       "4  0.437500  thank you marisepayne greghuntmp alexhawkemp s...   \n",
       "\n",
       "   total avg polarity  \n",
       "0            0.025948  \n",
       "1            0.025948  \n",
       "2            0.025948  \n",
       "3            0.025948  \n",
       "4            0.025948  "
      ]
     },
     "execution_count": 130,
     "metadata": {},
     "output_type": "execute_result"
    }
   ],
   "source": [
    "index = texas_sentiment_df.index\n",
    "\n",
    "texas_sentiment_df['total avg polarity'] = texas_sentiment_df['polarity'].sum() / len(index)\n",
    "\n",
    "texas_sentiment_df.head()"
   ]
  },
  {
   "cell_type": "code",
   "execution_count": 131,
   "metadata": {},
   "outputs": [
    {
     "data": {
      "text/html": [
       "<div>\n",
       "<style scoped>\n",
       "    .dataframe tbody tr th:only-of-type {\n",
       "        vertical-align: middle;\n",
       "    }\n",
       "\n",
       "    .dataframe tbody tr th {\n",
       "        vertical-align: top;\n",
       "    }\n",
       "\n",
       "    .dataframe thead th {\n",
       "        text-align: right;\n",
       "    }\n",
       "</style>\n",
       "<table border=\"1\" class=\"dataframe\">\n",
       "  <thead>\n",
       "    <tr style=\"text-align: right;\">\n",
       "      <th></th>\n",
       "      <th>polarity</th>\n",
       "      <th>tweet</th>\n",
       "      <th>total avg polarity</th>\n",
       "    </tr>\n",
       "  </thead>\n",
       "  <tbody>\n",
       "    <tr>\n",
       "      <th>0</th>\n",
       "      <td>-0.500000</td>\n",
       "      <td>diagnosing why the us has so blatantly failed ...</td>\n",
       "      <td>0.028697</td>\n",
       "    </tr>\n",
       "    <tr>\n",
       "      <th>1</th>\n",
       "      <td>0.000000</td>\n",
       "      <td>bill nye is still the science show king and he...</td>\n",
       "      <td>0.028697</td>\n",
       "    </tr>\n",
       "    <tr>\n",
       "      <th>2</th>\n",
       "      <td>0.333333</td>\n",
       "      <td>stellar detailed reporting from florida on gov...</td>\n",
       "      <td>0.028697</td>\n",
       "    </tr>\n",
       "    <tr>\n",
       "      <th>3</th>\n",
       "      <td>0.000000</td>\n",
       "      <td>rt ctzebra dr bodinr thepchatri 73yo pcp denve...</td>\n",
       "      <td>0.028697</td>\n",
       "    </tr>\n",
       "    <tr>\n",
       "      <th>4</th>\n",
       "      <td>0.360000</td>\n",
       "      <td>wolfofharcourt dividendwave theres also someth...</td>\n",
       "      <td>0.028697</td>\n",
       "    </tr>\n",
       "  </tbody>\n",
       "</table>\n",
       "</div>"
      ],
      "text/plain": [
       "   polarity                                              tweet  \\\n",
       "0 -0.500000  diagnosing why the us has so blatantly failed ...   \n",
       "1  0.000000  bill nye is still the science show king and he...   \n",
       "2  0.333333  stellar detailed reporting from florida on gov...   \n",
       "3  0.000000  rt ctzebra dr bodinr thepchatri 73yo pcp denve...   \n",
       "4  0.360000  wolfofharcourt dividendwave theres also someth...   \n",
       "\n",
       "   total avg polarity  \n",
       "0            0.028697  \n",
       "1            0.028697  \n",
       "2            0.028697  \n",
       "3            0.028697  \n",
       "4            0.028697  "
      ]
     },
     "execution_count": 131,
     "metadata": {},
     "output_type": "execute_result"
    }
   ],
   "source": [
    "index = new_mexico_sentiment_df.index\n",
    "\n",
    "new_mexico_sentiment_df['total avg polarity'] = new_mexico_sentiment_df['polarity'].sum() / len(index)\n",
    "\n",
    "new_mexico_sentiment_df.head()"
   ]
  },
  {
   "cell_type": "code",
   "execution_count": 132,
   "metadata": {},
   "outputs": [
    {
     "name": "stdout",
     "output_type": "stream",
     "text": [
      "  total avg polarity  total covid-19 cases      states\n",
      "0              0.028                770088    illinois\n",
      "1              0.028                367329     indiana\n",
      "2              0.026               1228812       texas\n",
      "3              0.029                104935  new mexico\n"
     ]
    }
   ],
   "source": [
    "total_polarity_df = {'total avg polarity': ['0.028','0.028','0.026','0.029'],\n",
    "        'total covid-19 cases': [770088,367329,1228812,104935],\n",
    "        'states': ['illinois', 'indiana', 'texas', 'new mexico']\n",
    "        }\n",
    "\n",
    "total_sentiment_df = pd.DataFrame(total_polarity_df, columns = ['total avg polarity', 'total covid-19 cases', 'states'])\n",
    "\n",
    "print (total_sentiment_df)"
   ]
  },
  {
   "cell_type": "code",
   "execution_count": 139,
   "metadata": {},
   "outputs": [
    {
     "name": "stdout",
     "output_type": "stream",
     "text": [
      "  total avg polarity  total covid-19 cases    states\n",
      "0              0.028                770088  illinois\n",
      "1              0.028                367329   indiana\n",
      "2              0.026               1228812     texas\n"
     ]
    }
   ],
   "source": [
    "total_polarity_df = {'total avg polarity': ['0.028','0.028','0.026'],\n",
    "        'total covid-19 cases': [770088,367329,1228812],\n",
    "        'states': ['illinois', 'indiana', 'texas']\n",
    "        }\n",
    "\n",
    "total_sentiment_df = pd.DataFrame(total_polarity_df, columns = ['total avg polarity', 'total covid-19 cases', 'states'])\n",
    "\n",
    "print (total_sentiment_df)"
   ]
  },
  {
   "cell_type": "markdown",
   "metadata": {},
   "source": [
    "# Predicting COVID-19 Cases From Sentiment - with scikit-learn"
   ]
  },
  {
   "cell_type": "code",
   "execution_count": 149,
   "metadata": {},
   "outputs": [],
   "source": [
    "from sklearn.linear_model import LinearRegression\n",
    "\n",
    "# Build linear regression model using TV and Radio as predictors\n",
    "# Split data into predictors X and output Y\n",
    "predictors = ['total avg polarity']\n",
    "X = total_sentiment_df[predictors]\n",
    "y = total_sentiment_df['total covid-19 cases']\n",
    "\n",
    "# Initialise and fit model\n",
    "lm = LinearRegression()\n",
    "model = lm.fit(X, y)"
   ]
  },
  {
   "cell_type": "markdown",
   "metadata": {},
   "source": [
    "## Predicting With Model"
   ]
  },
  {
   "cell_type": "code",
   "execution_count": 150,
   "metadata": {},
   "outputs": [
    {
     "name": "stdout",
     "output_type": "stream",
     "text": [
      "alpha = 9810157.499999994\n",
      "betas = [-3.3005175e+08]\n"
     ]
    }
   ],
   "source": [
    "print(f'alpha = {model.intercept_}')\n",
    "print(f'betas = {model.coef_}')"
   ]
  },
  {
   "cell_type": "markdown",
   "metadata": {},
   "source": [
    "Therefore our model for predicting COVID-19 cases from sentiment is cases = 10,753,247.74 + -3.65e08*total_avg_polarity"
   ]
  },
  {
   "cell_type": "code",
   "execution_count": 151,
   "metadata": {},
   "outputs": [
    {
     "data": {
      "text/plain": [
       "array([ 568708.5,  568708.5, 1228812. ])"
      ]
     },
     "execution_count": 151,
     "metadata": {},
     "output_type": "execute_result"
    }
   ],
   "source": [
    "#predicting the \n",
    "model.predict(X)"
   ]
  },
  {
   "cell_type": "code",
   "execution_count": 152,
   "metadata": {},
   "outputs": [
    {
     "name": "stdout",
     "output_type": "stream",
     "text": [
      "[238656.75]\n"
     ]
    }
   ],
   "source": [
    "new_mexico = [[0.029]]\n",
    "print(model.predict(new_mexico))"
   ]
  },
  {
   "cell_type": "markdown",
   "metadata": {},
   "source": [
    "# Plotting the linear regression "
   ]
  },
  {
   "cell_type": "code",
   "execution_count": 154,
   "metadata": {},
   "outputs": [
    {
     "data": {
      "image/png": "[encoded data removed]",
      "text/plain": [
       "<Figure size 864x432 with 1 Axes>"
      ]
     },
     "metadata": {},
     "output_type": "display_data"
    }
   ],
   "source": [
    "# Predict values\n",
    "cases_pred = model.predict(X)\n",
    "\n",
    "# Plot regression against actual data\n",
    "plt.figure(figsize=(12, 6))\n",
    "plt.plot(total_sentiment_df['total avg polarity'], total_sentiment_df['total covid-19 cases'], 'o')           # scatter plot showing actual data\n",
    "plt.plot(total_sentiment_df['total avg polarity'], cases_pred, 'r', linewidth=2)   # regression line\n",
    "plt.xlabel('total avg polarity')\n",
    "plt.ylabel('total covid-19 cases')\n",
    "plt.title('Sentiment vs Cases')\n",
    "\n",
    "plt.show()"
   ]
  },
  {
   "cell_type": "code",
   "execution_count": null,
   "metadata": {},
   "outputs": [],
   "source": []
  }
 ],
 "metadata": {
  "kernelspec": {
   "display_name": "Python 3",
   "language": "python",
   "name": "python3"
  },
  "language_info": {
   "codemirror_mode": {
    "name": "ipython",
    "version": 3
   },
   "file_extension": ".py",
   "mimetype": "text/x-python",
   "name": "python",
   "nbconvert_exporter": "python",
   "pygments_lexer": "ipython3",
   "version": "3.8.3"
  }
 },
 "nbformat": 4,
 "nbformat_minor": 4
}
